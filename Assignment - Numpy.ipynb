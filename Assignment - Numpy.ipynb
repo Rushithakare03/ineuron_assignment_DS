{
 "cells": [
  {
   "cell_type": "markdown",
   "id": "d50ba59c",
   "metadata": {},
   "source": [
    "1.Write a function so that the columns of the output matrix are powers of the input\n",
    "vector.\n",
    "The order of the powers is determined by the increasing boolean argument. Specifically, when\n",
    "increasing is False, the i-th output column is the input vector raised element-wise to the power\n",
    "of N - i - 1.\n",
    "\n",
    "HINT: Such a matrix with a geometric progression in each row is named for Alexandre-Theophile Vandermonde."
   ]
  },
  {
   "cell_type": "code",
   "execution_count": 1,
   "id": "bfdec1bb",
   "metadata": {},
   "outputs": [],
   "source": [
    "import numpy as np"
   ]
  },
  {
   "cell_type": "code",
   "execution_count": 5,
   "id": "7667cf3e",
   "metadata": {},
   "outputs": [],
   "source": [
    "def AlexTheovander(ivecter, n, increasing = False):\n",
    "    if increasing:\n",
    "        omatrix = np.matrix([x**i for x in ivecter for i in range(n)]).reshape(ivecter.size,n)\n",
    "    else:\n",
    "        omatrix = np.matrix([x**(n-i-1)for x in ivecter for i in range(n)]).reshape(ivecter.size,n)\n",
    "    return omatrix"
   ]
  },
  {
   "cell_type": "code",
   "execution_count": 6,
   "id": "2346eaa4",
   "metadata": {},
   "outputs": [],
   "source": [
    "ivecter = np.array([1,3,5,7,9])\n",
    "n = 5"
   ]
  },
  {
   "cell_type": "code",
   "execution_count": 7,
   "id": "9e8c190f",
   "metadata": {},
   "outputs": [
    {
     "data": {
      "text/plain": [
       "matrix([[   1,    1,    1,    1,    1],\n",
       "        [   1,    3,    9,   27,   81],\n",
       "        [   1,    5,   25,  125,  625],\n",
       "        [   1,    7,   49,  343, 2401],\n",
       "        [   1,    9,   81,  729, 6561]])"
      ]
     },
     "execution_count": 7,
     "metadata": {},
     "output_type": "execute_result"
    }
   ],
   "source": [
    "omatrix_asc = AlexTheovander(ivecter,n,True)\n",
    "omatrix_asc"
   ]
  },
  {
   "cell_type": "code",
   "execution_count": 8,
   "id": "79700bb5",
   "metadata": {},
   "outputs": [
    {
     "data": {
      "text/plain": [
       "matrix([[   1,    1,    1,    1,    1],\n",
       "        [  81,   27,    9,    3,    1],\n",
       "        [ 625,  125,   25,    5,    1],\n",
       "        [2401,  343,   49,    7,    1],\n",
       "        [6561,  729,   81,    9,    1]])"
      ]
     },
     "execution_count": 8,
     "metadata": {},
     "output_type": "execute_result"
    }
   ],
   "source": [
    "omatrix_desc = AlexTheovander(ivecter,n,False)\n",
    "omatrix_desc"
   ]
  },
  {
   "cell_type": "markdown",
   "id": "ca165fa7",
   "metadata": {},
   "source": [
    "2. Write a function to find moving average in an array over a window:\n",
    "Test it over [3, 5, 7, 2, 8, 10, 11, 65, 72, 81, 99, 100, 150] and window of 3."
   ]
  },
  {
   "cell_type": "code",
   "execution_count": 9,
   "id": "9cef780c",
   "metadata": {},
   "outputs": [],
   "source": [
    "def movingavg(inputvalue, k):\n",
    "    z = 1\n",
    "    output = np.convolve(inputvalue, np.ones(k), 'vaild') / k\n",
    "    for i in output:\n",
    "        print('y{0} = {1:.2f}'.format(z,i))\n",
    "        z += 1"
   ]
  },
  {
   "cell_type": "code",
   "execution_count": 10,
   "id": "6935abe1",
   "metadata": {},
   "outputs": [
    {
     "name": "stdout",
     "output_type": "stream",
     "text": [
      "y1 = 5.00\n",
      "y2 = 4.67\n",
      "y3 = 5.67\n",
      "y4 = 6.67\n",
      "y5 = 9.67\n",
      "y6 = 28.67\n",
      "y7 = 49.33\n",
      "y8 = 72.67\n",
      "y9 = 84.00\n",
      "y10 = 93.33\n",
      "y11 = 116.33\n"
     ]
    }
   ],
   "source": [
    "inputvalue = np.array([3, 5, 7, 2, 8, 10, 11, 65, 72, 81, 99, 100, 150])\n",
    "k = 3\n",
    "movingavg(inputvalue, k)"
   ]
  },
  {
   "cell_type": "code",
   "execution_count": null,
   "id": "a6b20b15",
   "metadata": {},
   "outputs": [],
   "source": []
  }
 ],
 "metadata": {
  "kernelspec": {
   "display_name": "Python 3",
   "language": "python",
   "name": "python3"
  },
  "language_info": {
   "codemirror_mode": {
    "name": "ipython",
    "version": 3
   },
   "file_extension": ".py",
   "mimetype": "text/x-python",
   "name": "python",
   "nbconvert_exporter": "python",
   "pygments_lexer": "ipython3",
   "version": "3.8.8"
  }
 },
 "nbformat": 4,
 "nbformat_minor": 5
}
